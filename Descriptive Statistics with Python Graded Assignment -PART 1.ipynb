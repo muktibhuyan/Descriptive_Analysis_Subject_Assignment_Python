{
 "cells": [
  {
   "cell_type": "code",
   "execution_count": 2,
   "id": "396506ee",
   "metadata": {},
   "outputs": [],
   "source": [
    "import pandas as pd\n",
    "import numpy as np\n"
   ]
  },
  {
   "cell_type": "code",
   "execution_count": null,
   "id": "260268b8",
   "metadata": {},
   "outputs": [],
   "source": [
    "## SECTION 1##"
   ]
  },
  {
   "cell_type": "code",
   "execution_count": null,
   "id": "36544bc2",
   "metadata": {},
   "outputs": [],
   "source": [
    "# 1. A statistics test was conducted for 10 learners in a class. The mean of their score is 85 and the\n",
    "#    variance of the score is zero. What can you interpret about the score obtained by all learners?\n",
    "\n",
    "\n",
    "#Solution : Since VARIANCE of score is zero,it means there is no variation in scores or we can say same.\n",
    "#           Also,as MEAN is 85 so that means all students have received same scores in the test.\n"
   ]
  },
  {
   "cell_type": "code",
   "execution_count": null,
   "id": "01073107",
   "metadata": {},
   "outputs": [],
   "source": []
  },
  {
   "cell_type": "code",
   "execution_count": null,
   "id": "0702c17f",
   "metadata": {},
   "outputs": [],
   "source": [
    "# 2. In a residential locality, the mean size of the house is 2224 square feet and the median value of the house is \n",
    "##  1500 square feet. What can you interpret about the skewness in the distribution of house size?\n",
    "#   Are there more bigger or smaller houses in the residential locality?\n",
    "\n",
    "\n",
    "# Solution : In this case, as MEAN (2224)> MEDIAN (1500) ,then it is a positively skewed distribution. It means there are \n",
    "##           more no. of bigger houses in the locality ranging towards 2200 sqft.\n",
    "\n"
   ]
  },
  {
   "cell_type": "code",
   "execution_count": null,
   "id": "b1f7fa6b",
   "metadata": {},
   "outputs": [],
   "source": []
  },
  {
   "cell_type": "code",
   "execution_count": null,
   "id": "b668e18d",
   "metadata": {},
   "outputs": [],
   "source": [
    "# 3. The following table shows the mean and variance of the expenditure for two groups of people.\n",
    "#    You want to compare the variability in expenditure for both groups with respect to their mean.\n",
    "#    Which statistical measure would you use to evaluate the variability in expenditure? Please provide an explanation for \n",
    "#    your answer.\n",
    "\n",
    "\n",
    "# Solution : MEAN & STD. DEV. is available for given question. We can calculate CO-EFFICIENT OF VARIATION from available details,\n",
    "#            which would give us variation between 2 groups w.r.t. their mean.\n",
    "\n",
    "##          CO-EEFICIENT OF VARIATION (CV) = (STD.DEV/MEAN)*100\n",
    "##          CV of Group 1 = (125000/500000) * 100 =25%\n",
    "##          CV of Group 2 = (10000/40000)*100 = 25%\n",
    "\n",
    "##  Since CV is same for both groups it means there is uniform spread of data points around the mean.\n",
    "\n",
    "##  CO-EFFICIENT OF VARIATION is a right method to compute variation between two groups as MEAN & STD is already provided."
   ]
  },
  {
   "cell_type": "code",
   "execution_count": null,
   "id": "e387a40c",
   "metadata": {},
   "outputs": [],
   "source": []
  },
  {
   "cell_type": "code",
   "execution_count": null,
   "id": "d04950b4",
   "metadata": {},
   "outputs": [],
   "source": [
    "# 4.  During the survey, the ages of 80 patients infected by COVID and admitted to one of the city\n",
    "#     hospitals were recorded and the collected data is represented in the less than cumulative\n",
    "#  frequency distribution table.\n",
    "#  Age (in yrs.) No. of Patients\n",
    "# 5 - 15 6\n",
    "# 15 - 25 11\n",
    "# 25 - 35 21\n",
    "# 35 - 45 23\n",
    "# 45 - 55 14\n",
    "# 55 - 65 5\n",
    "# a. Which class interval has the highest frequency?\n",
    "# b. Which age was affected the least?\n",
    "# c. How many patients of age 45 years and above were admitted?\n",
    "# d. Which is the modal class interval in the above dataset\n",
    "# e. What is the median class interval of age?"
   ]
  },
  {
   "cell_type": "code",
   "execution_count": null,
   "id": "e6ce8fcc",
   "metadata": {},
   "outputs": [],
   "source": [
    "# Solution:  \n",
    "\n",
    "#       Total No. of Observations (n) = 80\n",
    "#       Frequency(f) of each age interval = 6,11,21,23,14,5\n",
    "\n",
    "\n",
    "#a. Which class interval has the highest frequency? ----------------> (35-45) class interval has highest frequency as 23.\n",
    "# b. Which age was affected the least? ----------------------------> (55-65) class interval was affected ,frequency 5.\n",
    "# c. How many patients of age 45 years and above were admitted? ----> 14 + 5 = 19 patients were admitted for age above 45.\n",
    "# d. Which is the modal class interval in the above dataset --------> Modal class interval means the interval which has highest \n",
    "#                               frequency. Since (35-45) class interval has highest frequecy 23 so this is modal class interval.\n",
    "\n",
    "# e. What is the median class interval of age? --- Median = 80/2 =40 ,so median class interval is (35-45).\n",
    "\n"
   ]
  },
  {
   "cell_type": "code",
   "execution_count": null,
   "id": "38b1e427",
   "metadata": {},
   "outputs": [],
   "source": []
  },
  {
   "cell_type": "code",
   "execution_count": null,
   "id": "83b29e0f",
   "metadata": {},
   "outputs": [],
   "source": [
    "# 5. Assume you are the trader and you have invested over the years, and you are worried about the\n",
    "# average return on investment. What average method would you use to compute the average\n",
    "# return for the data given below?\n",
    "# Year Return Asset Price\n",
    "# 2015 36% 5000\n",
    "# 2016 23% 6400\n",
    "# 2017 -48% 7890\n",
    "# 2018 -30% 9023\n",
    "# 2019 15% 4567\n",
    "# 2020 31% 3890\n",
    "\n",
    "\n",
    "# Solution = For Average Rate of Return ,we will use Geometric Mean Method to compute it.\n",
    "\n",
    "#            ARR = (((1+ 0.36)*(1+ 0.23)*(1- 0.48)*(1-0.30)*(1+0.15)*(1+ 0.31))**(1/6)) -1\n",
    "#                = (1.36 * 1.23 * 0.52 * 0.7 * 1.15*1.31)**(1/6) =    ((0.917)**(1/6))-1  = 0.9857-1 =  -0.0143 =    -1.43% \n",
    "\n"
   ]
  },
  {
   "cell_type": "code",
   "execution_count": null,
   "id": "cd5f5ba3",
   "metadata": {},
   "outputs": [],
   "source": []
  },
  {
   "cell_type": "code",
   "execution_count": null,
   "id": "882e9677",
   "metadata": {},
   "outputs": [],
   "source": [
    "# 6. Suppose you have been told to measure the average height of all the males on the earth. What\n",
    "# would be your strategy for the same? Would the average height be a parameter or a statistic?Justify your answer.\n",
    "\n",
    "\n",
    "# Solution:  We can take sample of total population as it is impossible to measure height of all males on earth.\n",
    "#This sample data should be collected including factors like different geographic regions,race,age,ethnicities etc.\n",
    "\n",
    "\n",
    "# Average height would be a statistic as we will derive it from sample data of average heights. And if it would be possible\n",
    "#  to get all males data of earth then it would be a parameter as in that case we must be having a numerical figure with us."
   ]
  },
  {
   "cell_type": "code",
   "execution_count": null,
   "id": "d75d2f86",
   "metadata": {},
   "outputs": [],
   "source": []
  },
  {
   "cell_type": "code",
   "execution_count": null,
   "id": "34e939dd",
   "metadata": {},
   "outputs": [],
   "source": [
    "# 7. Calculate the z score of the following numbers:\n",
    "\n",
    "# X = [4.5,6.2,7.3,9.1,10.4,11]"
   ]
  },
  {
   "cell_type": "code",
   "execution_count": null,
   "id": "81d24049",
   "metadata": {},
   "outputs": [],
   "source": [
    " # Solution : \n",
    "    \n",
    "#    Formula of Z Score = ((Datapoint - Mean )/ Std. Dev)\n",
    "\n",
    "# Mean = (4.5 + 6.2 + 7.3 + 9.1 + 10.4 + 11)/6 = 8.08\n",
    "\n",
    "# Variance = ((8.08-4.5)^2+(8.08-6.2)^2+(8.08-7.3)^2+(8.08-9.1)^2+(8.08-10.4)^2+(8.08-11)^2)/6\n",
    "#          = (12.81 + 3.53 + 0.61+ 1.04 + 5.38 + 8.52)/6           = 31.89/6     = 5.31\n",
    "\n",
    "# Std Dev = Sq.root of Variance = 2.30\n",
    "\n",
    "\n",
    "# Z score of 4.5 =  ((4.5-8.08)/2.30) =  -1.55\n",
    "\n",
    "# Z score of 6.2 =  ((6.2-8.08)/2.30) =  -0.81\n",
    "\n",
    "# Z score of 7.3 =  ((7.3-8.08)/2.30) =  -0.34\n",
    "\n",
    "# Z score of 9.1 =  ((9.1-8.08)/2.30) =  0.44\n",
    "\n",
    "# Z score of 10.4 =  ((10.4-8.08)/2.30) = 1.01\n",
    "\n",
    "# Z score of 11 =  ((11-8.08)/2.30) =  1.27"
   ]
  },
  {
   "cell_type": "code",
   "execution_count": null,
   "id": "b43b6c90",
   "metadata": {},
   "outputs": [],
   "source": []
  },
  {
   "cell_type": "code",
   "execution_count": null,
   "id": "f76fdba1",
   "metadata": {},
   "outputs": [],
   "source": []
  }
 ],
 "metadata": {
  "kernelspec": {
   "display_name": "Python 3 (ipykernel)",
   "language": "python",
   "name": "python3"
  },
  "language_info": {
   "codemirror_mode": {
    "name": "ipython",
    "version": 3
   },
   "file_extension": ".py",
   "mimetype": "text/x-python",
   "name": "python",
   "nbconvert_exporter": "python",
   "pygments_lexer": "ipython3",
   "version": "3.11.4"
  }
 },
 "nbformat": 4,
 "nbformat_minor": 5
}
